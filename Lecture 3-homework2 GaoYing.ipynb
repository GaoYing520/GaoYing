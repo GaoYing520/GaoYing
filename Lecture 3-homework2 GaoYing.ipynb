{
 "cells": [
  {
   "cell_type": "code",
   "id": "initial_id",
   "metadata": {
    "collapsed": true,
    "ExecuteTime": {
     "end_time": "2024-11-03T06:59:28.576679Z",
     "start_time": "2024-11-03T06:59:27.610862Z"
    }
   },
   "source": "import pandas as pd",
   "outputs": [],
   "execution_count": 1
  },
  {
   "metadata": {},
   "cell_type": "markdown",
   "source": "# nobel",
   "id": "e7d7813a6fb7c696"
  },
  {
   "metadata": {
    "ExecuteTime": {
     "end_time": "2024-11-03T06:59:34.245390Z",
     "start_time": "2024-11-03T06:59:34.213672Z"
    }
   },
   "cell_type": "code",
   "source": [
    "# Load the data from the CSV file\n",
    "file_path = \"./nobel.csv\"  # Assuming the file is saved here\n",
    "nobel_df = pd.read_csv(file_path)"
   ],
   "id": "4f4adece591056ff",
   "outputs": [],
   "execution_count": 2
  },
  {
   "metadata": {
    "ExecuteTime": {
     "end_time": "2024-11-03T07:03:29.055797Z",
     "start_time": "2024-11-03T07:03:29.046289Z"
    }
   },
   "cell_type": "code",
   "source": [
    "# Task 1: Get the number of observations and variables\n",
    "num_observations, num_variables = nobel_df.shape\n",
    "print(f'num_observations: {num_observations}, num_variables: {num_variables}')\n",
    "print(\"Each row represents an individual who has received a Nobel Prize. \\n\",\n",
    "        \"The row includes details such as their name, year of award, category, affiliation, country, \\n\",\n",
    "        \"birth and death dates, and motivation for the award.\")"
   ],
   "id": "515f600777684c02",
   "outputs": [
    {
     "name": "stdout",
     "output_type": "stream",
     "text": [
      "num_observations: 935, num_variables: 26\n",
      "Each row represents an individual who has received a Nobel Prize. \n",
      " The row includes details such as their name, year of award, category, affiliation, country, \n",
      " birth and death dates, and motivation for the award.\n"
     ]
    }
   ],
   "execution_count": 12
  },
  {
   "metadata": {
    "ExecuteTime": {
     "end_time": "2024-11-03T07:02:44.546203Z",
     "start_time": "2024-11-03T07:02:44.518561Z"
    }
   },
   "cell_type": "code",
   "source": [
    "nobel_living = nobel_df[(nobel_df['country'].notna()) &\n",
    "                        (nobel_df['gender'] != 'org') &\n",
    "                        (nobel_df['died_date'].isna())]\n",
    "print(f'nobel_living shape: {nobel_living.shape}')\n",
    "nobel_living.head()"
   ],
   "id": "28f2304b46f80178",
   "outputs": [
    {
     "name": "stdout",
     "output_type": "stream",
     "text": [
      "nobel_living shape: (228, 26)\n"
     ]
    },
    {
     "data": {
      "text/plain": [
       "    id  firstname  surname  year category  \\\n",
       "68  68  Chen Ning     Yang  1957  Physics   \n",
       "69  69  Tsung-Dao      Lee  1957  Physics   \n",
       "94  95    Leon N.   Cooper  1972  Physics   \n",
       "96  97        Leo    Esaki  1973  Physics   \n",
       "97  98       Ivar  Giaever  1973  Physics   \n",
       "\n",
       "                             affiliation                 city country  \\\n",
       "68          Institute for Advanced Study         Princeton NJ     USA   \n",
       "69                   Columbia University          New York NY     USA   \n",
       "94                      Brown University        Providence RI     USA   \n",
       "96  IBM Thomas J. Watson Research Center  Yorktown Heights NY     USA   \n",
       "97              General Electric Company       Schenectady NY     USA   \n",
       "\n",
       "     born_date died_date  ... died_country_code overall_motivation share  \\\n",
       "68  1922-09-22       NaN  ...               NaN                NaN     2   \n",
       "69  1926-11-24       NaN  ...               NaN                NaN     2   \n",
       "94  1930-02-28       NaN  ...               NaN                NaN     3   \n",
       "96  1925-03-12       NaN  ...               NaN                NaN     4   \n",
       "97  1929-04-05       NaN  ...               NaN                NaN     4   \n",
       "\n",
       "                                           motivation born_country_original  \\\n",
       "68  \"for their penetrating investigation of the so...                 China   \n",
       "69  \"for their penetrating investigation of the so...                 China   \n",
       "94  \"for their jointly developed theory of superco...                   USA   \n",
       "96  \"for their experimental discoveries regarding ...                 Japan   \n",
       "97  \"for their experimental discoveries regarding ...                Norway   \n",
       "\n",
       "   born_city_original died_country_original died_city_original  \\\n",
       "68       Hofei Anhwei                   NaN                NaN   \n",
       "69           Shanghai                   NaN                NaN   \n",
       "94        New York NY                   NaN                NaN   \n",
       "96              Osaka                   NaN                NaN   \n",
       "97             Bergen                   NaN                NaN   \n",
       "\n",
       "          city_original country_original  \n",
       "68         Princeton NJ              USA  \n",
       "69          New York NY              USA  \n",
       "94        Providence RI              USA  \n",
       "96  Yorktown Heights NY              USA  \n",
       "97       Schenectady NY              USA  \n",
       "\n",
       "[5 rows x 26 columns]"
      ],
      "text/html": [
       "<div>\n",
       "<style scoped>\n",
       "    .dataframe tbody tr th:only-of-type {\n",
       "        vertical-align: middle;\n",
       "    }\n",
       "\n",
       "    .dataframe tbody tr th {\n",
       "        vertical-align: top;\n",
       "    }\n",
       "\n",
       "    .dataframe thead th {\n",
       "        text-align: right;\n",
       "    }\n",
       "</style>\n",
       "<table border=\"1\" class=\"dataframe\">\n",
       "  <thead>\n",
       "    <tr style=\"text-align: right;\">\n",
       "      <th></th>\n",
       "      <th>id</th>\n",
       "      <th>firstname</th>\n",
       "      <th>surname</th>\n",
       "      <th>year</th>\n",
       "      <th>category</th>\n",
       "      <th>affiliation</th>\n",
       "      <th>city</th>\n",
       "      <th>country</th>\n",
       "      <th>born_date</th>\n",
       "      <th>died_date</th>\n",
       "      <th>...</th>\n",
       "      <th>died_country_code</th>\n",
       "      <th>overall_motivation</th>\n",
       "      <th>share</th>\n",
       "      <th>motivation</th>\n",
       "      <th>born_country_original</th>\n",
       "      <th>born_city_original</th>\n",
       "      <th>died_country_original</th>\n",
       "      <th>died_city_original</th>\n",
       "      <th>city_original</th>\n",
       "      <th>country_original</th>\n",
       "    </tr>\n",
       "  </thead>\n",
       "  <tbody>\n",
       "    <tr>\n",
       "      <th>68</th>\n",
       "      <td>68</td>\n",
       "      <td>Chen Ning</td>\n",
       "      <td>Yang</td>\n",
       "      <td>1957</td>\n",
       "      <td>Physics</td>\n",
       "      <td>Institute for Advanced Study</td>\n",
       "      <td>Princeton NJ</td>\n",
       "      <td>USA</td>\n",
       "      <td>1922-09-22</td>\n",
       "      <td>NaN</td>\n",
       "      <td>...</td>\n",
       "      <td>NaN</td>\n",
       "      <td>NaN</td>\n",
       "      <td>2</td>\n",
       "      <td>\"for their penetrating investigation of the so...</td>\n",
       "      <td>China</td>\n",
       "      <td>Hofei Anhwei</td>\n",
       "      <td>NaN</td>\n",
       "      <td>NaN</td>\n",
       "      <td>Princeton NJ</td>\n",
       "      <td>USA</td>\n",
       "    </tr>\n",
       "    <tr>\n",
       "      <th>69</th>\n",
       "      <td>69</td>\n",
       "      <td>Tsung-Dao</td>\n",
       "      <td>Lee</td>\n",
       "      <td>1957</td>\n",
       "      <td>Physics</td>\n",
       "      <td>Columbia University</td>\n",
       "      <td>New York NY</td>\n",
       "      <td>USA</td>\n",
       "      <td>1926-11-24</td>\n",
       "      <td>NaN</td>\n",
       "      <td>...</td>\n",
       "      <td>NaN</td>\n",
       "      <td>NaN</td>\n",
       "      <td>2</td>\n",
       "      <td>\"for their penetrating investigation of the so...</td>\n",
       "      <td>China</td>\n",
       "      <td>Shanghai</td>\n",
       "      <td>NaN</td>\n",
       "      <td>NaN</td>\n",
       "      <td>New York NY</td>\n",
       "      <td>USA</td>\n",
       "    </tr>\n",
       "    <tr>\n",
       "      <th>94</th>\n",
       "      <td>95</td>\n",
       "      <td>Leon N.</td>\n",
       "      <td>Cooper</td>\n",
       "      <td>1972</td>\n",
       "      <td>Physics</td>\n",
       "      <td>Brown University</td>\n",
       "      <td>Providence RI</td>\n",
       "      <td>USA</td>\n",
       "      <td>1930-02-28</td>\n",
       "      <td>NaN</td>\n",
       "      <td>...</td>\n",
       "      <td>NaN</td>\n",
       "      <td>NaN</td>\n",
       "      <td>3</td>\n",
       "      <td>\"for their jointly developed theory of superco...</td>\n",
       "      <td>USA</td>\n",
       "      <td>New York NY</td>\n",
       "      <td>NaN</td>\n",
       "      <td>NaN</td>\n",
       "      <td>Providence RI</td>\n",
       "      <td>USA</td>\n",
       "    </tr>\n",
       "    <tr>\n",
       "      <th>96</th>\n",
       "      <td>97</td>\n",
       "      <td>Leo</td>\n",
       "      <td>Esaki</td>\n",
       "      <td>1973</td>\n",
       "      <td>Physics</td>\n",
       "      <td>IBM Thomas J. Watson Research Center</td>\n",
       "      <td>Yorktown Heights NY</td>\n",
       "      <td>USA</td>\n",
       "      <td>1925-03-12</td>\n",
       "      <td>NaN</td>\n",
       "      <td>...</td>\n",
       "      <td>NaN</td>\n",
       "      <td>NaN</td>\n",
       "      <td>4</td>\n",
       "      <td>\"for their experimental discoveries regarding ...</td>\n",
       "      <td>Japan</td>\n",
       "      <td>Osaka</td>\n",
       "      <td>NaN</td>\n",
       "      <td>NaN</td>\n",
       "      <td>Yorktown Heights NY</td>\n",
       "      <td>USA</td>\n",
       "    </tr>\n",
       "    <tr>\n",
       "      <th>97</th>\n",
       "      <td>98</td>\n",
       "      <td>Ivar</td>\n",
       "      <td>Giaever</td>\n",
       "      <td>1973</td>\n",
       "      <td>Physics</td>\n",
       "      <td>General Electric Company</td>\n",
       "      <td>Schenectady NY</td>\n",
       "      <td>USA</td>\n",
       "      <td>1929-04-05</td>\n",
       "      <td>NaN</td>\n",
       "      <td>...</td>\n",
       "      <td>NaN</td>\n",
       "      <td>NaN</td>\n",
       "      <td>4</td>\n",
       "      <td>\"for their experimental discoveries regarding ...</td>\n",
       "      <td>Norway</td>\n",
       "      <td>Bergen</td>\n",
       "      <td>NaN</td>\n",
       "      <td>NaN</td>\n",
       "      <td>Schenectady NY</td>\n",
       "      <td>USA</td>\n",
       "    </tr>\n",
       "  </tbody>\n",
       "</table>\n",
       "<p>5 rows × 26 columns</p>\n",
       "</div>"
      ]
     },
     "execution_count": 9,
     "metadata": {},
     "output_type": "execute_result"
    }
   ],
   "execution_count": 9
  },
  {
   "metadata": {
    "ExecuteTime": {
     "end_time": "2024-11-03T07:00:51.619007Z",
     "start_time": "2024-11-03T07:00:51.612263Z"
    }
   },
   "cell_type": "code",
   "source": [
    "# Task 3: Find the most common country for Nobel laureates' affiliations when they won their prizes\n",
    "most_common_country = nobel_df['country'].mode().iloc[0] if not nobel_df['country'].empty else None\n",
    "print(f'most_common_country: {most_common_country}')"
   ],
   "id": "f02560deb6884a16",
   "outputs": [
    {
     "name": "stdout",
     "output_type": "stream",
     "text": [
      "most_common_country: USA\n"
     ]
    }
   ],
   "execution_count": 8
  },
  {
   "metadata": {},
   "cell_type": "markdown",
   "source": "# titanic",
   "id": "3d41098be5dd3b25"
  },
  {
   "metadata": {
    "ExecuteTime": {
     "end_time": "2024-11-03T07:17:07.984273Z",
     "start_time": "2024-11-03T07:16:59.760294Z"
    }
   },
   "cell_type": "code",
   "source": "from skimpy import skim",
   "id": "e753e172594feed9",
   "outputs": [],
   "execution_count": 14
  },
  {
   "metadata": {
    "ExecuteTime": {
     "end_time": "2024-11-03T07:17:08.015285Z",
     "start_time": "2024-11-03T07:17:07.986247Z"
    }
   },
   "cell_type": "code",
   "source": "titanic_df = pd.read_csv(\"titanic.csv\")",
   "id": "70adb76352469817",
   "outputs": [],
   "execution_count": 15
  },
  {
   "metadata": {
    "ExecuteTime": {
     "end_time": "2024-11-03T07:17:11.702897Z",
     "start_time": "2024-11-03T07:17:11.622888Z"
    }
   },
   "cell_type": "code",
   "source": [
    "# Display summary with skimpy\n",
    "skim(titanic_df)"
   ],
   "id": "3bdeae9953e07db9",
   "outputs": [
    {
     "data": {
      "text/plain": [
       "╭──────────────────────────────────────────────── skimpy summary ─────────────────────────────────────────────────╮\n",
       "│ \u001B[3m         Data Summary         \u001B[0m \u001B[3m      Data Types       \u001B[0m                                                          │\n",
       "│ ┏━━━━━━━━━━━━━━━━━━━┳━━━━━━━━┓ ┏━━━━━━━━━━━━━┳━━━━━━━┓                                                          │\n",
       "│ ┃\u001B[1;36m \u001B[0m\u001B[1;36mdataframe        \u001B[0m\u001B[1;36m \u001B[0m┃\u001B[1;36m \u001B[0m\u001B[1;36mValues\u001B[0m\u001B[1;36m \u001B[0m┃ ┃\u001B[1;36m \u001B[0m\u001B[1;36mColumn Type\u001B[0m\u001B[1;36m \u001B[0m┃\u001B[1;36m \u001B[0m\u001B[1;36mCount\u001B[0m\u001B[1;36m \u001B[0m┃                                                          │\n",
       "│ ┡━━━━━━━━━━━━━━━━━━━╇━━━━━━━━┩ ┡━━━━━━━━━━━━━╇━━━━━━━┩                                                          │\n",
       "│ │ Number of rows    │ 891    │ │ int32       │ 5     │                                                          │\n",
       "│ │ Number of columns │ 12     │ │ string      │ 5     │                                                          │\n",
       "│ └───────────────────┴────────┘ │ float64     │ 2     │                                                          │\n",
       "│                                └─────────────┴───────┘                                                          │\n",
       "│ \u001B[3m                                                    number                                                    \u001B[0m  │\n",
       "│ ┏━━━━━━━━━━━━━━━━┳━━━━━━┳━━━━━━━━━┳━━━━━━━━━━┳━━━━━━━━━━┳━━━━━━━┳━━━━━━━━┳━━━━━━━━┳━━━━━━━━┳━━━━━━━━┳━━━━━━━━┓  │\n",
       "│ ┃\u001B[1m \u001B[0m\u001B[1mcolumn_name   \u001B[0m\u001B[1m \u001B[0m┃\u001B[1m \u001B[0m\u001B[1mNA  \u001B[0m\u001B[1m \u001B[0m┃\u001B[1m \u001B[0m\u001B[1mNA %   \u001B[0m\u001B[1m \u001B[0m┃\u001B[1m \u001B[0m\u001B[1mmean    \u001B[0m\u001B[1m \u001B[0m┃\u001B[1m \u001B[0m\u001B[1msd      \u001B[0m\u001B[1m \u001B[0m┃\u001B[1m \u001B[0m\u001B[1mp0   \u001B[0m\u001B[1m \u001B[0m┃\u001B[1m \u001B[0m\u001B[1mp25   \u001B[0m\u001B[1m \u001B[0m┃\u001B[1m \u001B[0m\u001B[1mp50   \u001B[0m\u001B[1m \u001B[0m┃\u001B[1m \u001B[0m\u001B[1mp75   \u001B[0m\u001B[1m \u001B[0m┃\u001B[1m \u001B[0m\u001B[1mp100  \u001B[0m\u001B[1m \u001B[0m┃\u001B[1m \u001B[0m\u001B[1mhist  \u001B[0m\u001B[1m \u001B[0m┃  │\n",
       "│ ┡━━━━━━━━━━━━━━━━╇━━━━━━╇━━━━━━━━━╇━━━━━━━━━━╇━━━━━━━━━━╇━━━━━━━╇━━━━━━━━╇━━━━━━━━╇━━━━━━━━╇━━━━━━━━╇━━━━━━━━┩  │\n",
       "│ │ \u001B[38;5;141mPassengerId   \u001B[0m │ \u001B[36m   0\u001B[0m │ \u001B[36m      0\u001B[0m │ \u001B[36m     446\u001B[0m │ \u001B[36m   257.4\u001B[0m │ \u001B[36m    1\u001B[0m │ \u001B[36m 223.5\u001B[0m │ \u001B[36m   446\u001B[0m │ \u001B[36m 668.5\u001B[0m │ \u001B[36m   891\u001B[0m │ \u001B[32m▇▇▇▇▇▇\u001B[0m │  │\n",
       "│ │ \u001B[38;5;141mSurvived      \u001B[0m │ \u001B[36m   0\u001B[0m │ \u001B[36m      0\u001B[0m │ \u001B[36m  0.3838\u001B[0m │ \u001B[36m  0.4866\u001B[0m │ \u001B[36m    0\u001B[0m │ \u001B[36m     0\u001B[0m │ \u001B[36m     0\u001B[0m │ \u001B[36m     1\u001B[0m │ \u001B[36m     1\u001B[0m │ \u001B[32m▇    ▅\u001B[0m │  │\n",
       "│ │ \u001B[38;5;141mPclass        \u001B[0m │ \u001B[36m   0\u001B[0m │ \u001B[36m      0\u001B[0m │ \u001B[36m   2.309\u001B[0m │ \u001B[36m  0.8361\u001B[0m │ \u001B[36m    1\u001B[0m │ \u001B[36m     2\u001B[0m │ \u001B[36m     3\u001B[0m │ \u001B[36m     3\u001B[0m │ \u001B[36m     3\u001B[0m │ \u001B[32m▃  ▃ ▇\u001B[0m │  │\n",
       "│ │ \u001B[38;5;141mAge           \u001B[0m │ \u001B[36m 177\u001B[0m │ \u001B[36m  19.87\u001B[0m │ \u001B[36m    29.7\u001B[0m │ \u001B[36m   14.53\u001B[0m │ \u001B[36m 0.42\u001B[0m │ \u001B[36m 20.12\u001B[0m │ \u001B[36m    28\u001B[0m │ \u001B[36m    38\u001B[0m │ \u001B[36m    80\u001B[0m │ \u001B[32m▂▇▇▃▁ \u001B[0m │  │\n",
       "│ │ \u001B[38;5;141mSibSp         \u001B[0m │ \u001B[36m   0\u001B[0m │ \u001B[36m      0\u001B[0m │ \u001B[36m   0.523\u001B[0m │ \u001B[36m   1.103\u001B[0m │ \u001B[36m    0\u001B[0m │ \u001B[36m     0\u001B[0m │ \u001B[36m     0\u001B[0m │ \u001B[36m     1\u001B[0m │ \u001B[36m     8\u001B[0m │ \u001B[32m  ▇   \u001B[0m │  │\n",
       "│ │ \u001B[38;5;141mParch         \u001B[0m │ \u001B[36m   0\u001B[0m │ \u001B[36m      0\u001B[0m │ \u001B[36m  0.3816\u001B[0m │ \u001B[36m  0.8061\u001B[0m │ \u001B[36m    0\u001B[0m │ \u001B[36m     0\u001B[0m │ \u001B[36m     0\u001B[0m │ \u001B[36m     0\u001B[0m │ \u001B[36m     6\u001B[0m │ \u001B[32m ▇▁▁  \u001B[0m │  │\n",
       "│ │ \u001B[38;5;141mFare          \u001B[0m │ \u001B[36m   0\u001B[0m │ \u001B[36m      0\u001B[0m │ \u001B[36m    32.2\u001B[0m │ \u001B[36m   49.69\u001B[0m │ \u001B[36m    0\u001B[0m │ \u001B[36m  7.91\u001B[0m │ \u001B[36m 14.45\u001B[0m │ \u001B[36m    31\u001B[0m │ \u001B[36m 512.3\u001B[0m │ \u001B[32m  ▇   \u001B[0m │  │\n",
       "│ └────────────────┴──────┴─────────┴──────────┴──────────┴───────┴────────┴────────┴────────┴────────┴────────┘  │\n",
       "│ \u001B[3m                                                    string                                                    \u001B[0m  │\n",
       "│ ┏━━━━━━━━━━━━━━━━━━━━━━━━━━┳━━━━━━━━━━┳━━━━━━━━━━━━┳━━━━━━━━━━━━━━━━━━━━━━━━━━━━━━┳━━━━━━━━━━━━━━━━━━━━━━━━━━┓  │\n",
       "│ ┃\u001B[1m \u001B[0m\u001B[1mcolumn_name             \u001B[0m\u001B[1m \u001B[0m┃\u001B[1m \u001B[0m\u001B[1mNA      \u001B[0m\u001B[1m \u001B[0m┃\u001B[1m \u001B[0m\u001B[1mNA %      \u001B[0m\u001B[1m \u001B[0m┃\u001B[1m \u001B[0m\u001B[1mwords per row               \u001B[0m\u001B[1m \u001B[0m┃\u001B[1m \u001B[0m\u001B[1mtotal words             \u001B[0m\u001B[1m \u001B[0m┃  │\n",
       "│ ┡━━━━━━━━━━━━━━━━━━━━━━━━━━╇━━━━━━━━━━╇━━━━━━━━━━━━╇━━━━━━━━━━━━━━━━━━━━━━━━━━━━━━╇━━━━━━━━━━━━━━━━━━━━━━━━━━┩  │\n",
       "│ │ \u001B[38;5;141mName                    \u001B[0m │ \u001B[36m       0\u001B[0m │ \u001B[36m         0\u001B[0m │ \u001B[36m                         4.1\u001B[0m │ \u001B[36m                    3626\u001B[0m │  │\n",
       "│ │ \u001B[38;5;141mSex                     \u001B[0m │ \u001B[36m       0\u001B[0m │ \u001B[36m         0\u001B[0m │ \u001B[36m                           1\u001B[0m │ \u001B[36m                     891\u001B[0m │  │\n",
       "│ │ \u001B[38;5;141mTicket                  \u001B[0m │ \u001B[36m       0\u001B[0m │ \u001B[36m         0\u001B[0m │ \u001B[36m                         1.3\u001B[0m │ \u001B[36m                    1130\u001B[0m │  │\n",
       "│ │ \u001B[38;5;141mCabin                   \u001B[0m │ \u001B[36m     687\u001B[0m │ \u001B[36m      77.1\u001B[0m │ \u001B[36m                        0.27\u001B[0m │ \u001B[36m                     238\u001B[0m │  │\n",
       "│ │ \u001B[38;5;141mEmbarked                \u001B[0m │ \u001B[36m       2\u001B[0m │ \u001B[36m      0.22\u001B[0m │ \u001B[36m                           1\u001B[0m │ \u001B[36m                     889\u001B[0m │  │\n",
       "│ └──────────────────────────┴──────────┴────────────┴──────────────────────────────┴──────────────────────────┘  │\n",
       "╰────────────────────────────────────────────────────── End ──────────────────────────────────────────────────────╯\n"
      ],
      "text/html": [
       "<pre style=\"white-space:pre;overflow-x:auto;line-height:normal;font-family:Menlo,'DejaVu Sans Mono',consolas,'Courier New',monospace\">╭──────────────────────────────────────────────── skimpy summary ─────────────────────────────────────────────────╮\n",
       "│ <span style=\"font-style: italic\">         Data Summary         </span> <span style=\"font-style: italic\">      Data Types       </span>                                                          │\n",
       "│ ┏━━━━━━━━━━━━━━━━━━━┳━━━━━━━━┓ ┏━━━━━━━━━━━━━┳━━━━━━━┓                                                          │\n",
       "│ ┃<span style=\"color: #008080; text-decoration-color: #008080; font-weight: bold\"> dataframe         </span>┃<span style=\"color: #008080; text-decoration-color: #008080; font-weight: bold\"> Values </span>┃ ┃<span style=\"color: #008080; text-decoration-color: #008080; font-weight: bold\"> Column Type </span>┃<span style=\"color: #008080; text-decoration-color: #008080; font-weight: bold\"> Count </span>┃                                                          │\n",
       "│ ┡━━━━━━━━━━━━━━━━━━━╇━━━━━━━━┩ ┡━━━━━━━━━━━━━╇━━━━━━━┩                                                          │\n",
       "│ │ Number of rows    │ 891    │ │ int32       │ 5     │                                                          │\n",
       "│ │ Number of columns │ 12     │ │ string      │ 5     │                                                          │\n",
       "│ └───────────────────┴────────┘ │ float64     │ 2     │                                                          │\n",
       "│                                └─────────────┴───────┘                                                          │\n",
       "│ <span style=\"font-style: italic\">                                                    number                                                    </span>  │\n",
       "│ ┏━━━━━━━━━━━━━━━━┳━━━━━━┳━━━━━━━━━┳━━━━━━━━━━┳━━━━━━━━━━┳━━━━━━━┳━━━━━━━━┳━━━━━━━━┳━━━━━━━━┳━━━━━━━━┳━━━━━━━━┓  │\n",
       "│ ┃<span style=\"font-weight: bold\"> column_name    </span>┃<span style=\"font-weight: bold\"> NA   </span>┃<span style=\"font-weight: bold\"> NA %    </span>┃<span style=\"font-weight: bold\"> mean     </span>┃<span style=\"font-weight: bold\"> sd       </span>┃<span style=\"font-weight: bold\"> p0    </span>┃<span style=\"font-weight: bold\"> p25    </span>┃<span style=\"font-weight: bold\"> p50    </span>┃<span style=\"font-weight: bold\"> p75    </span>┃<span style=\"font-weight: bold\"> p100   </span>┃<span style=\"font-weight: bold\"> hist   </span>┃  │\n",
       "│ ┡━━━━━━━━━━━━━━━━╇━━━━━━╇━━━━━━━━━╇━━━━━━━━━━╇━━━━━━━━━━╇━━━━━━━╇━━━━━━━━╇━━━━━━━━╇━━━━━━━━╇━━━━━━━━╇━━━━━━━━┩  │\n",
       "│ │ <span style=\"color: #af87ff; text-decoration-color: #af87ff\">PassengerId   </span> │ <span style=\"color: #008080; text-decoration-color: #008080\">   0</span> │ <span style=\"color: #008080; text-decoration-color: #008080\">      0</span> │ <span style=\"color: #008080; text-decoration-color: #008080\">     446</span> │ <span style=\"color: #008080; text-decoration-color: #008080\">   257.4</span> │ <span style=\"color: #008080; text-decoration-color: #008080\">    1</span> │ <span style=\"color: #008080; text-decoration-color: #008080\"> 223.5</span> │ <span style=\"color: #008080; text-decoration-color: #008080\">   446</span> │ <span style=\"color: #008080; text-decoration-color: #008080\"> 668.5</span> │ <span style=\"color: #008080; text-decoration-color: #008080\">   891</span> │ <span style=\"color: #008000; text-decoration-color: #008000\">▇▇▇▇▇▇</span> │  │\n",
       "│ │ <span style=\"color: #af87ff; text-decoration-color: #af87ff\">Survived      </span> │ <span style=\"color: #008080; text-decoration-color: #008080\">   0</span> │ <span style=\"color: #008080; text-decoration-color: #008080\">      0</span> │ <span style=\"color: #008080; text-decoration-color: #008080\">  0.3838</span> │ <span style=\"color: #008080; text-decoration-color: #008080\">  0.4866</span> │ <span style=\"color: #008080; text-decoration-color: #008080\">    0</span> │ <span style=\"color: #008080; text-decoration-color: #008080\">     0</span> │ <span style=\"color: #008080; text-decoration-color: #008080\">     0</span> │ <span style=\"color: #008080; text-decoration-color: #008080\">     1</span> │ <span style=\"color: #008080; text-decoration-color: #008080\">     1</span> │ <span style=\"color: #008000; text-decoration-color: #008000\">▇    ▅</span> │  │\n",
       "│ │ <span style=\"color: #af87ff; text-decoration-color: #af87ff\">Pclass        </span> │ <span style=\"color: #008080; text-decoration-color: #008080\">   0</span> │ <span style=\"color: #008080; text-decoration-color: #008080\">      0</span> │ <span style=\"color: #008080; text-decoration-color: #008080\">   2.309</span> │ <span style=\"color: #008080; text-decoration-color: #008080\">  0.8361</span> │ <span style=\"color: #008080; text-decoration-color: #008080\">    1</span> │ <span style=\"color: #008080; text-decoration-color: #008080\">     2</span> │ <span style=\"color: #008080; text-decoration-color: #008080\">     3</span> │ <span style=\"color: #008080; text-decoration-color: #008080\">     3</span> │ <span style=\"color: #008080; text-decoration-color: #008080\">     3</span> │ <span style=\"color: #008000; text-decoration-color: #008000\">▃  ▃ ▇</span> │  │\n",
       "│ │ <span style=\"color: #af87ff; text-decoration-color: #af87ff\">Age           </span> │ <span style=\"color: #008080; text-decoration-color: #008080\"> 177</span> │ <span style=\"color: #008080; text-decoration-color: #008080\">  19.87</span> │ <span style=\"color: #008080; text-decoration-color: #008080\">    29.7</span> │ <span style=\"color: #008080; text-decoration-color: #008080\">   14.53</span> │ <span style=\"color: #008080; text-decoration-color: #008080\"> 0.42</span> │ <span style=\"color: #008080; text-decoration-color: #008080\"> 20.12</span> │ <span style=\"color: #008080; text-decoration-color: #008080\">    28</span> │ <span style=\"color: #008080; text-decoration-color: #008080\">    38</span> │ <span style=\"color: #008080; text-decoration-color: #008080\">    80</span> │ <span style=\"color: #008000; text-decoration-color: #008000\">▂▇▇▃▁ </span> │  │\n",
       "│ │ <span style=\"color: #af87ff; text-decoration-color: #af87ff\">SibSp         </span> │ <span style=\"color: #008080; text-decoration-color: #008080\">   0</span> │ <span style=\"color: #008080; text-decoration-color: #008080\">      0</span> │ <span style=\"color: #008080; text-decoration-color: #008080\">   0.523</span> │ <span style=\"color: #008080; text-decoration-color: #008080\">   1.103</span> │ <span style=\"color: #008080; text-decoration-color: #008080\">    0</span> │ <span style=\"color: #008080; text-decoration-color: #008080\">     0</span> │ <span style=\"color: #008080; text-decoration-color: #008080\">     0</span> │ <span style=\"color: #008080; text-decoration-color: #008080\">     1</span> │ <span style=\"color: #008080; text-decoration-color: #008080\">     8</span> │ <span style=\"color: #008000; text-decoration-color: #008000\">  ▇   </span> │  │\n",
       "│ │ <span style=\"color: #af87ff; text-decoration-color: #af87ff\">Parch         </span> │ <span style=\"color: #008080; text-decoration-color: #008080\">   0</span> │ <span style=\"color: #008080; text-decoration-color: #008080\">      0</span> │ <span style=\"color: #008080; text-decoration-color: #008080\">  0.3816</span> │ <span style=\"color: #008080; text-decoration-color: #008080\">  0.8061</span> │ <span style=\"color: #008080; text-decoration-color: #008080\">    0</span> │ <span style=\"color: #008080; text-decoration-color: #008080\">     0</span> │ <span style=\"color: #008080; text-decoration-color: #008080\">     0</span> │ <span style=\"color: #008080; text-decoration-color: #008080\">     0</span> │ <span style=\"color: #008080; text-decoration-color: #008080\">     6</span> │ <span style=\"color: #008000; text-decoration-color: #008000\"> ▇▁▁  </span> │  │\n",
       "│ │ <span style=\"color: #af87ff; text-decoration-color: #af87ff\">Fare          </span> │ <span style=\"color: #008080; text-decoration-color: #008080\">   0</span> │ <span style=\"color: #008080; text-decoration-color: #008080\">      0</span> │ <span style=\"color: #008080; text-decoration-color: #008080\">    32.2</span> │ <span style=\"color: #008080; text-decoration-color: #008080\">   49.69</span> │ <span style=\"color: #008080; text-decoration-color: #008080\">    0</span> │ <span style=\"color: #008080; text-decoration-color: #008080\">  7.91</span> │ <span style=\"color: #008080; text-decoration-color: #008080\"> 14.45</span> │ <span style=\"color: #008080; text-decoration-color: #008080\">    31</span> │ <span style=\"color: #008080; text-decoration-color: #008080\"> 512.3</span> │ <span style=\"color: #008000; text-decoration-color: #008000\">  ▇   </span> │  │\n",
       "│ └────────────────┴──────┴─────────┴──────────┴──────────┴───────┴────────┴────────┴────────┴────────┴────────┘  │\n",
       "│ <span style=\"font-style: italic\">                                                    string                                                    </span>  │\n",
       "│ ┏━━━━━━━━━━━━━━━━━━━━━━━━━━┳━━━━━━━━━━┳━━━━━━━━━━━━┳━━━━━━━━━━━━━━━━━━━━━━━━━━━━━━┳━━━━━━━━━━━━━━━━━━━━━━━━━━┓  │\n",
       "│ ┃<span style=\"font-weight: bold\"> column_name              </span>┃<span style=\"font-weight: bold\"> NA       </span>┃<span style=\"font-weight: bold\"> NA %       </span>┃<span style=\"font-weight: bold\"> words per row                </span>┃<span style=\"font-weight: bold\"> total words              </span>┃  │\n",
       "│ ┡━━━━━━━━━━━━━━━━━━━━━━━━━━╇━━━━━━━━━━╇━━━━━━━━━━━━╇━━━━━━━━━━━━━━━━━━━━━━━━━━━━━━╇━━━━━━━━━━━━━━━━━━━━━━━━━━┩  │\n",
       "│ │ <span style=\"color: #af87ff; text-decoration-color: #af87ff\">Name                    </span> │ <span style=\"color: #008080; text-decoration-color: #008080\">       0</span> │ <span style=\"color: #008080; text-decoration-color: #008080\">         0</span> │ <span style=\"color: #008080; text-decoration-color: #008080\">                         4.1</span> │ <span style=\"color: #008080; text-decoration-color: #008080\">                    3626</span> │  │\n",
       "│ │ <span style=\"color: #af87ff; text-decoration-color: #af87ff\">Sex                     </span> │ <span style=\"color: #008080; text-decoration-color: #008080\">       0</span> │ <span style=\"color: #008080; text-decoration-color: #008080\">         0</span> │ <span style=\"color: #008080; text-decoration-color: #008080\">                           1</span> │ <span style=\"color: #008080; text-decoration-color: #008080\">                     891</span> │  │\n",
       "│ │ <span style=\"color: #af87ff; text-decoration-color: #af87ff\">Ticket                  </span> │ <span style=\"color: #008080; text-decoration-color: #008080\">       0</span> │ <span style=\"color: #008080; text-decoration-color: #008080\">         0</span> │ <span style=\"color: #008080; text-decoration-color: #008080\">                         1.3</span> │ <span style=\"color: #008080; text-decoration-color: #008080\">                    1130</span> │  │\n",
       "│ │ <span style=\"color: #af87ff; text-decoration-color: #af87ff\">Cabin                   </span> │ <span style=\"color: #008080; text-decoration-color: #008080\">     687</span> │ <span style=\"color: #008080; text-decoration-color: #008080\">      77.1</span> │ <span style=\"color: #008080; text-decoration-color: #008080\">                        0.27</span> │ <span style=\"color: #008080; text-decoration-color: #008080\">                     238</span> │  │\n",
       "│ │ <span style=\"color: #af87ff; text-decoration-color: #af87ff\">Embarked                </span> │ <span style=\"color: #008080; text-decoration-color: #008080\">       2</span> │ <span style=\"color: #008080; text-decoration-color: #008080\">      0.22</span> │ <span style=\"color: #008080; text-decoration-color: #008080\">                           1</span> │ <span style=\"color: #008080; text-decoration-color: #008080\">                     889</span> │  │\n",
       "│ └──────────────────────────┴──────────┴────────────┴──────────────────────────────┴──────────────────────────┘  │\n",
       "╰────────────────────────────────────────────────────── End ──────────────────────────────────────────────────────╯\n",
       "</pre>\n"
      ]
     },
     "metadata": {},
     "output_type": "display_data"
    }
   ],
   "execution_count": 17
  },
  {
   "metadata": {
    "ExecuteTime": {
     "end_time": "2024-11-03T07:17:20.622758Z",
     "start_time": "2024-11-03T07:17:20.599534Z"
    }
   },
   "cell_type": "code",
   "source": [
    "# Display the first few rows to understand the structure\n",
    "titanic_df.head()"
   ],
   "id": "1daa9315a883a7ab",
   "outputs": [
    {
     "data": {
      "text/plain": [
       "   PassengerId  Survived  Pclass  \\\n",
       "0            1         0       3   \n",
       "1            2         1       1   \n",
       "2            3         1       3   \n",
       "3            4         1       1   \n",
       "4            5         0       3   \n",
       "\n",
       "                                                Name     Sex   Age  SibSp  \\\n",
       "0                            Braund, Mr. Owen Harris    male  22.0      1   \n",
       "1  Cumings, Mrs. John Bradley (Florence Briggs Th...  female  38.0      1   \n",
       "2                             Heikkinen, Miss. Laina  female  26.0      0   \n",
       "3       Futrelle, Mrs. Jacques Heath (Lily May Peel)  female  35.0      1   \n",
       "4                           Allen, Mr. William Henry    male  35.0      0   \n",
       "\n",
       "   Parch            Ticket     Fare Cabin Embarked  \n",
       "0      0         A/5 21171   7.2500   NaN        S  \n",
       "1      0          PC 17599  71.2833   C85        C  \n",
       "2      0  STON/O2. 3101282   7.9250   NaN        S  \n",
       "3      0            113803  53.1000  C123        S  \n",
       "4      0            373450   8.0500   NaN        S  "
      ],
      "text/html": [
       "<div>\n",
       "<style scoped>\n",
       "    .dataframe tbody tr th:only-of-type {\n",
       "        vertical-align: middle;\n",
       "    }\n",
       "\n",
       "    .dataframe tbody tr th {\n",
       "        vertical-align: top;\n",
       "    }\n",
       "\n",
       "    .dataframe thead th {\n",
       "        text-align: right;\n",
       "    }\n",
       "</style>\n",
       "<table border=\"1\" class=\"dataframe\">\n",
       "  <thead>\n",
       "    <tr style=\"text-align: right;\">\n",
       "      <th></th>\n",
       "      <th>PassengerId</th>\n",
       "      <th>Survived</th>\n",
       "      <th>Pclass</th>\n",
       "      <th>Name</th>\n",
       "      <th>Sex</th>\n",
       "      <th>Age</th>\n",
       "      <th>SibSp</th>\n",
       "      <th>Parch</th>\n",
       "      <th>Ticket</th>\n",
       "      <th>Fare</th>\n",
       "      <th>Cabin</th>\n",
       "      <th>Embarked</th>\n",
       "    </tr>\n",
       "  </thead>\n",
       "  <tbody>\n",
       "    <tr>\n",
       "      <th>0</th>\n",
       "      <td>1</td>\n",
       "      <td>0</td>\n",
       "      <td>3</td>\n",
       "      <td>Braund, Mr. Owen Harris</td>\n",
       "      <td>male</td>\n",
       "      <td>22.0</td>\n",
       "      <td>1</td>\n",
       "      <td>0</td>\n",
       "      <td>A/5 21171</td>\n",
       "      <td>7.2500</td>\n",
       "      <td>NaN</td>\n",
       "      <td>S</td>\n",
       "    </tr>\n",
       "    <tr>\n",
       "      <th>1</th>\n",
       "      <td>2</td>\n",
       "      <td>1</td>\n",
       "      <td>1</td>\n",
       "      <td>Cumings, Mrs. John Bradley (Florence Briggs Th...</td>\n",
       "      <td>female</td>\n",
       "      <td>38.0</td>\n",
       "      <td>1</td>\n",
       "      <td>0</td>\n",
       "      <td>PC 17599</td>\n",
       "      <td>71.2833</td>\n",
       "      <td>C85</td>\n",
       "      <td>C</td>\n",
       "    </tr>\n",
       "    <tr>\n",
       "      <th>2</th>\n",
       "      <td>3</td>\n",
       "      <td>1</td>\n",
       "      <td>3</td>\n",
       "      <td>Heikkinen, Miss. Laina</td>\n",
       "      <td>female</td>\n",
       "      <td>26.0</td>\n",
       "      <td>0</td>\n",
       "      <td>0</td>\n",
       "      <td>STON/O2. 3101282</td>\n",
       "      <td>7.9250</td>\n",
       "      <td>NaN</td>\n",
       "      <td>S</td>\n",
       "    </tr>\n",
       "    <tr>\n",
       "      <th>3</th>\n",
       "      <td>4</td>\n",
       "      <td>1</td>\n",
       "      <td>1</td>\n",
       "      <td>Futrelle, Mrs. Jacques Heath (Lily May Peel)</td>\n",
       "      <td>female</td>\n",
       "      <td>35.0</td>\n",
       "      <td>1</td>\n",
       "      <td>0</td>\n",
       "      <td>113803</td>\n",
       "      <td>53.1000</td>\n",
       "      <td>C123</td>\n",
       "      <td>S</td>\n",
       "    </tr>\n",
       "    <tr>\n",
       "      <th>4</th>\n",
       "      <td>5</td>\n",
       "      <td>0</td>\n",
       "      <td>3</td>\n",
       "      <td>Allen, Mr. William Henry</td>\n",
       "      <td>male</td>\n",
       "      <td>35.0</td>\n",
       "      <td>0</td>\n",
       "      <td>0</td>\n",
       "      <td>373450</td>\n",
       "      <td>8.0500</td>\n",
       "      <td>NaN</td>\n",
       "      <td>S</td>\n",
       "    </tr>\n",
       "  </tbody>\n",
       "</table>\n",
       "</div>"
      ]
     },
     "execution_count": 19,
     "metadata": {},
     "output_type": "execute_result"
    }
   ],
   "execution_count": 19
  },
  {
   "metadata": {
    "ExecuteTime": {
     "end_time": "2024-11-03T07:17:30.390177Z",
     "start_time": "2024-11-03T07:17:30.376591Z"
    }
   },
   "cell_type": "code",
   "source": [
    "# Get a concise summary of the DataFrame\n",
    "titanic_df.info()"
   ],
   "id": "b1e1c421ddf085a",
   "outputs": [
    {
     "name": "stdout",
     "output_type": "stream",
     "text": [
      "<class 'pandas.core.frame.DataFrame'>\n",
      "RangeIndex: 891 entries, 0 to 890\n",
      "Data columns (total 12 columns):\n",
      " #   Column       Non-Null Count  Dtype  \n",
      "---  ------       --------------  -----  \n",
      " 0   PassengerId  891 non-null    int64  \n",
      " 1   Survived     891 non-null    int64  \n",
      " 2   Pclass       891 non-null    int64  \n",
      " 3   Name         891 non-null    object \n",
      " 4   Sex          891 non-null    object \n",
      " 5   Age          714 non-null    float64\n",
      " 6   SibSp        891 non-null    int64  \n",
      " 7   Parch        891 non-null    int64  \n",
      " 8   Ticket       891 non-null    object \n",
      " 9   Fare         891 non-null    float64\n",
      " 10  Cabin        204 non-null    object \n",
      " 11  Embarked     889 non-null    object \n",
      "dtypes: float64(2), int64(5), object(5)\n",
      "memory usage: 83.7+ KB\n"
     ]
    }
   ],
   "execution_count": 20
  },
  {
   "metadata": {
    "ExecuteTime": {
     "end_time": "2024-11-03T07:17:31.412654Z",
     "start_time": "2024-11-03T07:17:31.405669Z"
    }
   },
   "cell_type": "code",
   "source": [
    "# Check for any missing values in each column\n",
    "titanic_df.isnull().sum()"
   ],
   "id": "5955540eef42aeaf",
   "outputs": [
    {
     "data": {
      "text/plain": [
       "PassengerId      0\n",
       "Survived         0\n",
       "Pclass           0\n",
       "Name             0\n",
       "Sex              0\n",
       "Age            177\n",
       "SibSp            0\n",
       "Parch            0\n",
       "Ticket           0\n",
       "Fare             0\n",
       "Cabin          687\n",
       "Embarked         2\n",
       "dtype: int64"
      ]
     },
     "execution_count": 21,
     "metadata": {},
     "output_type": "execute_result"
    }
   ],
   "execution_count": 21
  },
  {
   "metadata": {
    "ExecuteTime": {
     "end_time": "2024-11-03T07:17:41.032706Z",
     "start_time": "2024-11-03T07:17:41.014451Z"
    }
   },
   "cell_type": "code",
   "source": [
    "# Summary statistics for numerical columns\n",
    "titanic_df.describe()"
   ],
   "id": "1eb87a29d97e2b1d",
   "outputs": [
    {
     "data": {
      "text/plain": [
       "       PassengerId    Survived      Pclass         Age       SibSp  \\\n",
       "count   891.000000  891.000000  891.000000  714.000000  891.000000   \n",
       "mean    446.000000    0.383838    2.308642   29.699118    0.523008   \n",
       "std     257.353842    0.486592    0.836071   14.526497    1.102743   \n",
       "min       1.000000    0.000000    1.000000    0.420000    0.000000   \n",
       "25%     223.500000    0.000000    2.000000   20.125000    0.000000   \n",
       "50%     446.000000    0.000000    3.000000   28.000000    0.000000   \n",
       "75%     668.500000    1.000000    3.000000   38.000000    1.000000   \n",
       "max     891.000000    1.000000    3.000000   80.000000    8.000000   \n",
       "\n",
       "            Parch        Fare  \n",
       "count  891.000000  891.000000  \n",
       "mean     0.381594   32.204208  \n",
       "std      0.806057   49.693429  \n",
       "min      0.000000    0.000000  \n",
       "25%      0.000000    7.910400  \n",
       "50%      0.000000   14.454200  \n",
       "75%      0.000000   31.000000  \n",
       "max      6.000000  512.329200  "
      ],
      "text/html": [
       "<div>\n",
       "<style scoped>\n",
       "    .dataframe tbody tr th:only-of-type {\n",
       "        vertical-align: middle;\n",
       "    }\n",
       "\n",
       "    .dataframe tbody tr th {\n",
       "        vertical-align: top;\n",
       "    }\n",
       "\n",
       "    .dataframe thead th {\n",
       "        text-align: right;\n",
       "    }\n",
       "</style>\n",
       "<table border=\"1\" class=\"dataframe\">\n",
       "  <thead>\n",
       "    <tr style=\"text-align: right;\">\n",
       "      <th></th>\n",
       "      <th>PassengerId</th>\n",
       "      <th>Survived</th>\n",
       "      <th>Pclass</th>\n",
       "      <th>Age</th>\n",
       "      <th>SibSp</th>\n",
       "      <th>Parch</th>\n",
       "      <th>Fare</th>\n",
       "    </tr>\n",
       "  </thead>\n",
       "  <tbody>\n",
       "    <tr>\n",
       "      <th>count</th>\n",
       "      <td>891.000000</td>\n",
       "      <td>891.000000</td>\n",
       "      <td>891.000000</td>\n",
       "      <td>714.000000</td>\n",
       "      <td>891.000000</td>\n",
       "      <td>891.000000</td>\n",
       "      <td>891.000000</td>\n",
       "    </tr>\n",
       "    <tr>\n",
       "      <th>mean</th>\n",
       "      <td>446.000000</td>\n",
       "      <td>0.383838</td>\n",
       "      <td>2.308642</td>\n",
       "      <td>29.699118</td>\n",
       "      <td>0.523008</td>\n",
       "      <td>0.381594</td>\n",
       "      <td>32.204208</td>\n",
       "    </tr>\n",
       "    <tr>\n",
       "      <th>std</th>\n",
       "      <td>257.353842</td>\n",
       "      <td>0.486592</td>\n",
       "      <td>0.836071</td>\n",
       "      <td>14.526497</td>\n",
       "      <td>1.102743</td>\n",
       "      <td>0.806057</td>\n",
       "      <td>49.693429</td>\n",
       "    </tr>\n",
       "    <tr>\n",
       "      <th>min</th>\n",
       "      <td>1.000000</td>\n",
       "      <td>0.000000</td>\n",
       "      <td>1.000000</td>\n",
       "      <td>0.420000</td>\n",
       "      <td>0.000000</td>\n",
       "      <td>0.000000</td>\n",
       "      <td>0.000000</td>\n",
       "    </tr>\n",
       "    <tr>\n",
       "      <th>25%</th>\n",
       "      <td>223.500000</td>\n",
       "      <td>0.000000</td>\n",
       "      <td>2.000000</td>\n",
       "      <td>20.125000</td>\n",
       "      <td>0.000000</td>\n",
       "      <td>0.000000</td>\n",
       "      <td>7.910400</td>\n",
       "    </tr>\n",
       "    <tr>\n",
       "      <th>50%</th>\n",
       "      <td>446.000000</td>\n",
       "      <td>0.000000</td>\n",
       "      <td>3.000000</td>\n",
       "      <td>28.000000</td>\n",
       "      <td>0.000000</td>\n",
       "      <td>0.000000</td>\n",
       "      <td>14.454200</td>\n",
       "    </tr>\n",
       "    <tr>\n",
       "      <th>75%</th>\n",
       "      <td>668.500000</td>\n",
       "      <td>1.000000</td>\n",
       "      <td>3.000000</td>\n",
       "      <td>38.000000</td>\n",
       "      <td>1.000000</td>\n",
       "      <td>0.000000</td>\n",
       "      <td>31.000000</td>\n",
       "    </tr>\n",
       "    <tr>\n",
       "      <th>max</th>\n",
       "      <td>891.000000</td>\n",
       "      <td>1.000000</td>\n",
       "      <td>3.000000</td>\n",
       "      <td>80.000000</td>\n",
       "      <td>8.000000</td>\n",
       "      <td>6.000000</td>\n",
       "      <td>512.329200</td>\n",
       "    </tr>\n",
       "  </tbody>\n",
       "</table>\n",
       "</div>"
      ]
     },
     "execution_count": 22,
     "metadata": {},
     "output_type": "execute_result"
    }
   ],
   "execution_count": 22
  },
  {
   "metadata": {
    "ExecuteTime": {
     "end_time": "2024-11-03T07:17:44.247325Z",
     "start_time": "2024-11-03T07:17:44.227687Z"
    }
   },
   "cell_type": "code",
   "source": [
    "# Summary statistics for categorical columns\n",
    "titanic_df.describe(include=\"object\")"
   ],
   "id": "78a3d780a1ed7663",
   "outputs": [
    {
     "data": {
      "text/plain": [
       "                           Name   Sex  Ticket    Cabin Embarked\n",
       "count                       891   891     891      204      889\n",
       "unique                      891     2     681      147        3\n",
       "top     Braund, Mr. Owen Harris  male  347082  B96 B98        S\n",
       "freq                          1   577       7        4      644"
      ],
      "text/html": [
       "<div>\n",
       "<style scoped>\n",
       "    .dataframe tbody tr th:only-of-type {\n",
       "        vertical-align: middle;\n",
       "    }\n",
       "\n",
       "    .dataframe tbody tr th {\n",
       "        vertical-align: top;\n",
       "    }\n",
       "\n",
       "    .dataframe thead th {\n",
       "        text-align: right;\n",
       "    }\n",
       "</style>\n",
       "<table border=\"1\" class=\"dataframe\">\n",
       "  <thead>\n",
       "    <tr style=\"text-align: right;\">\n",
       "      <th></th>\n",
       "      <th>Name</th>\n",
       "      <th>Sex</th>\n",
       "      <th>Ticket</th>\n",
       "      <th>Cabin</th>\n",
       "      <th>Embarked</th>\n",
       "    </tr>\n",
       "  </thead>\n",
       "  <tbody>\n",
       "    <tr>\n",
       "      <th>count</th>\n",
       "      <td>891</td>\n",
       "      <td>891</td>\n",
       "      <td>891</td>\n",
       "      <td>204</td>\n",
       "      <td>889</td>\n",
       "    </tr>\n",
       "    <tr>\n",
       "      <th>unique</th>\n",
       "      <td>891</td>\n",
       "      <td>2</td>\n",
       "      <td>681</td>\n",
       "      <td>147</td>\n",
       "      <td>3</td>\n",
       "    </tr>\n",
       "    <tr>\n",
       "      <th>top</th>\n",
       "      <td>Braund, Mr. Owen Harris</td>\n",
       "      <td>male</td>\n",
       "      <td>347082</td>\n",
       "      <td>B96 B98</td>\n",
       "      <td>S</td>\n",
       "    </tr>\n",
       "    <tr>\n",
       "      <th>freq</th>\n",
       "      <td>1</td>\n",
       "      <td>577</td>\n",
       "      <td>7</td>\n",
       "      <td>4</td>\n",
       "      <td>644</td>\n",
       "    </tr>\n",
       "  </tbody>\n",
       "</table>\n",
       "</div>"
      ]
     },
     "execution_count": 23,
     "metadata": {},
     "output_type": "execute_result"
    }
   ],
   "execution_count": 23
  },
  {
   "metadata": {
    "ExecuteTime": {
     "end_time": "2024-11-03T07:17:47.946086Z",
     "start_time": "2024-11-03T07:17:47.930051Z"
    }
   },
   "cell_type": "code",
   "source": [
    "# Count unique values in each categorical column\n",
    "titanic_df['Sex'].value_counts()\n",
    "titanic_df['Embarked'].value_counts()"
   ],
   "id": "2d8fede943bccd36",
   "outputs": [
    {
     "data": {
      "text/plain": [
       "Embarked\n",
       "S    644\n",
       "C    168\n",
       "Q     77\n",
       "Name: count, dtype: int64"
      ]
     },
     "execution_count": 24,
     "metadata": {},
     "output_type": "execute_result"
    }
   ],
   "execution_count": 24
  },
  {
   "metadata": {
    "ExecuteTime": {
     "end_time": "2024-11-03T07:17:59.938859Z",
     "start_time": "2024-11-03T07:17:59.925332Z"
    }
   },
   "cell_type": "code",
   "source": [
    "# Survival rate by class\n",
    "titanic_df.groupby('Pclass')['Survived'].mean()\n",
    "\n",
    "# Survival rate by sex\n",
    "titanic_df.groupby('Sex')['Survived'].mean()"
   ],
   "id": "4e6ce59b6f8b6efd",
   "outputs": [
    {
     "data": {
      "text/plain": [
       "Sex\n",
       "female    0.742038\n",
       "male      0.188908\n",
       "Name: Survived, dtype: float64"
      ]
     },
     "execution_count": 26,
     "metadata": {},
     "output_type": "execute_result"
    }
   ],
   "execution_count": 26
  },
  {
   "metadata": {
    "ExecuteTime": {
     "end_time": "2024-11-03T07:18:07.829920Z",
     "start_time": "2024-11-03T07:18:07.809033Z"
    }
   },
   "cell_type": "code",
   "source": [
    "# Percentage of missing values in each column\n",
    "missing_percentage = (titanic_df.isnull().mean() * 100).sort_values(ascending=False)\n",
    "missing_percentage"
   ],
   "id": "cbb9824d9e4142f1",
   "outputs": [
    {
     "data": {
      "text/plain": [
       "Cabin          77.104377\n",
       "Age            19.865320\n",
       "Embarked        0.224467\n",
       "PassengerId     0.000000\n",
       "Survived        0.000000\n",
       "Pclass          0.000000\n",
       "Name            0.000000\n",
       "Sex             0.000000\n",
       "SibSp           0.000000\n",
       "Parch           0.000000\n",
       "Ticket          0.000000\n",
       "Fare            0.000000\n",
       "dtype: float64"
      ]
     },
     "execution_count": 27,
     "metadata": {},
     "output_type": "execute_result"
    }
   ],
   "execution_count": 27
  },
  {
   "metadata": {},
   "cell_type": "code",
   "outputs": [],
   "execution_count": null,
   "source": "",
   "id": "c68f4f7166a3d138"
  }
 ],
 "metadata": {
  "kernelspec": {
   "display_name": "Python 3",
   "language": "python",
   "name": "python3"
  },
  "language_info": {
   "codemirror_mode": {
    "name": "ipython",
    "version": 2
   },
   "file_extension": ".py",
   "mimetype": "text/x-python",
   "name": "python",
   "nbconvert_exporter": "python",
   "pygments_lexer": "ipython2",
   "version": "2.7.6"
  }
 },
 "nbformat": 4,
 "nbformat_minor": 5
}
