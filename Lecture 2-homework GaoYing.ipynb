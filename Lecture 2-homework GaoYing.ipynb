{
 "cells": [
  {
   "cell_type": "code",
   "id": "initial_id",
   "metadata": {
    "collapsed": true,
    "ExecuteTime": {
     "end_time": "2024-11-03T06:53:21.084419Z",
     "start_time": "2024-11-03T06:53:21.071802Z"
    }
   },
   "source": "import pandas as pd",
   "outputs": [],
   "execution_count": 5
  },
  {
   "metadata": {
    "ExecuteTime": {
     "end_time": "2024-11-03T06:53:21.286036Z",
     "start_time": "2024-11-03T06:53:21.232164Z"
    }
   },
   "cell_type": "code",
   "source": [
    "# Load the Seattle pet licenses data\n",
    "file_path = './seattle_pet_licenses.csv'\n",
    "seattle_pets_df = pd.read_csv(file_path)\n",
    "\n",
    "# Task 1: Count the total number of pets\n",
    "num_pets = seattle_pets_df.shape[0]\n",
    "print(f\"1. Total number of pets in the dataset: {num_pets}\")\n"
   ],
   "id": "fe29b659b7845248",
   "outputs": [
    {
     "name": "stdout",
     "output_type": "stream",
     "text": [
      "1. Total number of pets in the dataset: 66042\n"
     ]
    }
   ],
   "execution_count": 6
  },
  {
   "metadata": {
    "ExecuteTime": {
     "end_time": "2024-11-03T06:53:21.425489Z",
     "start_time": "2024-11-03T06:53:21.406205Z"
    }
   },
   "cell_type": "code",
   "source": [
    "# Task 2: Count the number of variables for each pet\n",
    "num_variables = seattle_pets_df.shape[1]\n",
    "print(f\"2. Number of variables (columns) per pet: {num_variables}\")\n"
   ],
   "id": "2025dd06f5f34ec6",
   "outputs": [
    {
     "name": "stdout",
     "output_type": "stream",
     "text": [
      "2. Number of variables (columns) per pet: 7\n"
     ]
    }
   ],
   "execution_count": 7
  },
  {
   "metadata": {
    "ExecuteTime": {
     "end_time": "2024-11-03T06:53:21.641706Z",
     "start_time": "2024-11-03T06:53:21.613047Z"
    }
   },
   "cell_type": "code",
   "source": [
    "# Task 3: Find the three most common pet names in Seattle\n",
    "top_three_pet_names = seattle_pets_df['animal_s_name'].value_counts().nlargest(3)\n",
    "print(\"3. Three most common pet names in Seattle:\")\n",
    "for name, count in top_three_pet_names.items():\n",
    "    print(f\"   - {name}: {count} occurrences\")"
   ],
   "id": "b32f3eed0ffce47a",
   "outputs": [
    {
     "name": "stdout",
     "output_type": "stream",
     "text": [
      "3. Three most common pet names in Seattle:\n",
      "   - Lucy: 566 occurrences\n",
      "   - Bella: 451 occurrences\n",
      "   - Charlie: 447 occurrences\n"
     ]
    }
   ],
   "execution_count": 8
  },
  {
   "metadata": {},
   "cell_type": "code",
   "outputs": [],
   "execution_count": null,
   "source": "",
   "id": "82a1ea3d182b0972"
  }
 ],
 "metadata": {
  "kernelspec": {
   "display_name": "Python 3",
   "language": "python",
   "name": "python3"
  },
  "language_info": {
   "codemirror_mode": {
    "name": "ipython",
    "version": 2
   },
   "file_extension": ".py",
   "mimetype": "text/x-python",
   "name": "python",
   "nbconvert_exporter": "python",
   "pygments_lexer": "ipython2",
   "version": "2.7.6"
  }
 },
 "nbformat": 4,
 "nbformat_minor": 5
}
