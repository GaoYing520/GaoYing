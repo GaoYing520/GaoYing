{
 "cells": [
  {
   "cell_type": "code",
   "execution_count": null,
   "id": "eb48eeb5-0509-42fe-9118-05ec2b70b0ab",
   "metadata": {},
   "outputs": [],
   "source": [
    "# %load homework1GaoYing.py\n",
    "import pandas as pd\n",
    "import matplotlib.pyplot as plt\n",
    "import seaborn as sns\n",
    "\n",
    "# 读取 CSV 文件\n",
    "df = pd.read_csv('plastic-waste.csv')\n",
    "\n",
    "# 清理数据：去除缺失值\n",
    "df_cleaned = df.dropna(subset=['continent', 'plastic_waste_per_cap'])\n",
    "\n",
    "# 设置图形风格\n",
    "sns.set(style=\"whitegrid\")\n",
    "\n",
    "# 创建 FacetGrid，按 'continent' 分面\n",
    "g = sns.FacetGrid(df_cleaned, col='continent', col_wrap=3, height=4, sharey=False)\n",
    "g.map(sns.histplot, 'plastic_waste_per_cap', kde=False, bins=20, color='blue')\n",
    "\n",
    "# 设置图表标题和坐标轴标签\n",
    "g.set_titles(\"{col_name}\")\n",
    "g.set_axis_labels(\"Plastic Waste Per Capita (kg)\", \"Frequency\")\n",
    "g.fig.suptitle(\"Distribution of Plastic Waste Per Capita by Continent\", fontsize=16)\n",
    "g.tight_layout(pad=2)\n",
    "\n",
    "# 显示图形\n",
    "plt.show()"
   ]
  },
  {
   "cell_type": "code",
   "execution_count": null,
   "id": "3034d3e7-4388-4afc-a6de-0589a0b1af5c",
   "metadata": {},
   "outputs": [],
   "source": []
  }
 ],
 "metadata": {
  "kernelspec": {
   "display_name": "Python 3 (ipykernel)",
   "language": "python",
   "name": "python3"
  },
  "language_info": {
   "codemirror_mode": {
    "name": "ipython",
    "version": 3
   },
   "file_extension": ".py",
   "mimetype": "text/x-python",
   "name": "python",
   "nbconvert_exporter": "python",
   "pygments_lexer": "ipython3",
   "version": "3.12.4"
  }
 },
 "nbformat": 4,
 "nbformat_minor": 5
}
