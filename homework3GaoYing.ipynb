{
 "cells": [
  {
   "cell_type": "code",
   "execution_count": null,
   "id": "9cecafbb-be8d-4c20-ac34-a192bb07334f",
   "metadata": {},
   "outputs": [],
   "source": [
    "# %load homework3GaoYing.py\n",
    "import pandas as pd\n",
    "import matplotlib.pyplot as plt\n",
    "import seaborn as sns\n",
    "\n",
    "# 读取 CSV 文件\n",
    "df = pd.read_csv('plastic-waste.csv')\n",
    "\n",
    "# 清理数据：去除缺失值\n",
    "df_cleaned = df.dropna(subset=['continent', 'plastic_waste_per_cap', 'mismanaged_plastic_waste_per_cap'])\n",
    "\n",
    "# 绘制散点图\n",
    "plt.figure(figsize=(10, 6))\n",
    "sns.scatterplot(x='plastic_waste_per_cap', y='mismanaged_plastic_waste_per_cap', hue='continent', data=df_cleaned, palette='deep')\n",
    "\n",
    "# 设置图表标题和坐标轴标签\n",
    "plt.title(\"Relationship between Plastic Waste Per Capita and Mismanaged Plastic Waste Per Capita\")\n",
    "plt.xlabel(\"Plastic Waste Per Capita (kg)\")\n",
    "plt.ylabel(\"Mismanaged Plastic Waste Per Capita (kg)\")\n",
    "\n",
    "# 显示图例\n",
    "plt.legend(title='Continent')\n",
    "\n",
    "# 显示图形\n",
    "plt.show()"
   ]
  },
  {
   "cell_type": "code",
   "execution_count": null,
   "id": "e2fa91de-0a07-4a51-a153-b5befc30ef1f",
   "metadata": {},
   "outputs": [],
   "source": []
  }
 ],
 "metadata": {
  "kernelspec": {
   "display_name": "Python 3 (ipykernel)",
   "language": "python",
   "name": "python3"
  },
  "language_info": {
   "codemirror_mode": {
    "name": "ipython",
    "version": 3
   },
   "file_extension": ".py",
   "mimetype": "text/x-python",
   "name": "python",
   "nbconvert_exporter": "python",
   "pygments_lexer": "ipython3",
   "version": "3.12.4"
  }
 },
 "nbformat": 4,
 "nbformat_minor": 5
}
